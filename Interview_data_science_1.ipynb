{
  "nbformat": 4,
  "nbformat_minor": 0,
  "metadata": {
    "colab": {
      "provenance": []
    },
    "kernelspec": {
      "name": "python3",
      "display_name": "Python 3"
    },
    "language_info": {
      "name": "python"
    }
  },
  "cells": [
    {
      "cell_type": "markdown",
      "source": [
        "UPPERCASE WORDS WITH O"
      ],
      "metadata": {
        "id": "SmSbYM6EE2Dk"
      }
    },
    {
      "cell_type": "code",
      "execution_count": 1,
      "metadata": {
        "id": "19iHaVret5jh"
      },
      "outputs": [],
      "source": [
        "a = [\"cow\",\"dog\",\"cat\", \"horse\", \"ox\"]\n"
      ]
    },
    {
      "cell_type": "code",
      "source": [
        "A = [element.upper() for element in a if 'o' in element]\n",
        "A"
      ],
      "metadata": {
        "colab": {
          "base_uri": "https://localhost:8080/"
        },
        "id": "jTmZ-ifit8M0",
        "outputId": "65d1a7de-f8cf-4e2c-fa70-435ae2b05d4d"
      },
      "execution_count": 8,
      "outputs": [
        {
          "output_type": "execute_result",
          "data": {
            "text/plain": [
              "['COW', 'DOG', 'HORSE', 'OX']"
            ]
          },
          "metadata": {},
          "execution_count": 8
        }
      ]
    },
    {
      "cell_type": "code",
      "source": [
        "m = [1, 5, 4, 6, 7, 8, 11, 12]\n",
        "# USE MAP, FILTER OR LSMBDA TO EXTRACT EVEN NUMBERS\n"
      ],
      "metadata": {
        "id": "0rK1CttxvpZd"
      },
      "execution_count": 1,
      "outputs": []
    },
    {
      "cell_type": "markdown",
      "source": [
        "You can use the filter() function to extract the even numbers from the list m. The filter() function applies a function to each element in an iterable (such as a list) and returns a new iterable with only the elements for which the function returns True.\n",
        "\n",
        "Here's an example of how to use the filter() function to extract the even numbers from the list m:"
      ],
      "metadata": {
        "id": "9p-hFzjwBDEQ"
      }
    },
    {
      "cell_type": "code",
      "source": [
        "# Define a function to test if a number is even\n",
        "def is_even(n):\n",
        "    return n % 2 == 0\n",
        "\n",
        "# Use the filter function to apply the is_even function to each element in the list\n",
        "even_numbers = filter(is_even, m)\n",
        "\n",
        "# Print the result\n",
        "print(list(even_numbers))  # Output: [4, 6, 8, 12]"
      ],
      "metadata": {
        "colab": {
          "base_uri": "https://localhost:8080/"
        },
        "id": "JLTA_cP8A64_",
        "outputId": "b913165f-6e99-4ea0-f751-8eba9be81dc1"
      },
      "execution_count": 2,
      "outputs": [
        {
          "output_type": "stream",
          "name": "stdout",
          "text": [
            "[4, 6, 8, 12]\n"
          ]
        }
      ]
    },
    {
      "cell_type": "markdown",
      "source": [
        "You can also use a lambda function as the first argument to the filter() function to achieve the same result. A lambda function is a small anonymous function without a name. Here's an example of how to use a lambda function with the filter() function:"
      ],
      "metadata": {
        "id": "37JITfjXBcVc"
      }
    },
    {
      "cell_type": "code",
      "source": [
        "m = [1, 5, 4, 6, 7, 8, 11, 12]\n",
        "\n",
        "# Use the filter function with a lambda function as the first argument\n",
        "even_numbers = filter(lambda x: x % 2 == 0, m)\n",
        "\n",
        "# Print the result\n",
        "print(list(even_numbers))  # Output: [4, 6, 8, 12]\n"
      ],
      "metadata": {
        "colab": {
          "base_uri": "https://localhost:8080/"
        },
        "id": "8bLXklVsBkCy",
        "outputId": "ec91e903-71ac-4ffd-d50d-6b6f8729979c"
      },
      "execution_count": 3,
      "outputs": [
        {
          "output_type": "stream",
          "name": "stdout",
          "text": [
            "[4, 6, 8, 12]\n"
          ]
        }
      ]
    },
    {
      "cell_type": "markdown",
      "source": [
        "You can use the map() function to extract the even numbers from the list m. The map() function applies a function to each element in an iterable (such as a list) and returns a new iterable with the modified elements.\n",
        "\n",
        "Here's an example of how to use the map() function to extract the even numbers from the list m:"
      ],
      "metadata": {
        "id": "gAGLbOA4CF7F"
      }
    },
    {
      "cell_type": "code",
      "source": [
        "m = [1, 5, 4, 6, 7, 8, 11, 12]\n",
        "\n",
        "# Define a function to test if a number is even\n",
        "def is_even(n):\n",
        "    return n % 2 == 0\n",
        "\n",
        "# Use the map function to apply the is_even function to each element in the list\n",
        "even_numbers = map(is_even, m)\n",
        "\n",
        "# Print the result\n",
        "print(list(even_numbers))  # Output: [False, False, True, True, False, True, False, True]\n"
      ],
      "metadata": {
        "colab": {
          "base_uri": "https://localhost:8080/"
        },
        "id": "YHdy2HFQwmY1",
        "outputId": "d7df3594-f115-4b33-e662-effd1d5e57e8"
      },
      "execution_count": 4,
      "outputs": [
        {
          "output_type": "stream",
          "name": "stdout",
          "text": [
            "[False, False, True, True, False, True, False, True]\n"
          ]
        }
      ]
    },
    {
      "cell_type": "markdown",
      "source": [
        "Note that the map() function returns an iterator, so if you want to print the results or store them in a list, you will need to convert the iterator to a list using the list() function.\n",
        "\n",
        "You can also use a lambda function as the first argument to the map() function to achieve the same result. A lambda function is a small anonymous function without a name. Here's an example of how to use a lambda function with the map() function:"
      ],
      "metadata": {
        "id": "PFpXvxxfCTGy"
      }
    },
    {
      "cell_type": "code",
      "source": [
        "m = [1, 5, 4, 6, 7, 8, 11, 12]\n",
        "\n",
        "# Use the map function with a lambda function as the first argument\n",
        "even_numbers = map(lambda x: x % 2 == 0, m)\n",
        "\n",
        "# Print the result\n",
        "print(list(even_numbers))  # Output: [False, False, True, True, False, True, False, True]\n"
      ],
      "metadata": {
        "colab": {
          "base_uri": "https://localhost:8080/"
        },
        "id": "0yMqLevTCOpz",
        "outputId": "5115e813-86f1-41b9-955f-a6ce9fed05f5"
      },
      "execution_count": 5,
      "outputs": [
        {
          "output_type": "stream",
          "name": "stdout",
          "text": [
            "[False, False, True, True, False, True, False, True]\n"
          ]
        }
      ]
    },
    {
      "cell_type": "markdown",
      "source": [
        "**R SQUARED AND ADJUSTED R-SQUARED**\n",
        "\n",
        "\n",
        "The coefficient of determination, denoted by R^2, is a measure of how well a regression model fits the data. It is calculated as the ratio of the variance of the predicted values to the variance of the observed values. In other words, it measures how much of the variance in the dependent variable (the variable being predicted) is explained by the model.\n",
        "\n",
        "The adjusted R^2 is a modified version of R^2 that adjusts for the number of independent variables in the model. It is calculated as:\n",
        "\n",
        "Adjusted R^2 = 1 - (1 - R^2) * (n - 1) / (n - p - 1)\n",
        "\n",
        "where:\n",
        "\n",
        "n is the number of observations\n",
        "p is the number of independent variables\n",
        "The adjusted R^2 takes into account the number of independent variables in the model and adjusts R^2 downwards if the addition of additional independent variables does not significantly improve the model's ability to predict the dependent variable. This makes it a more conservative estimate of the model's fit compared to R^2.\n",
        "\n",
        "Both R^2 and adjusted R^2 are expressed as a value between 0 and 1, with higher values indicating a better fit. In general, a model with a high R^2 or adjusted R^2 is considered to be a good fit for the data. However, it is important to note that a high R^2 or adjusted R^2 does not guarantee that the model is accurate or appropriate for the data. It is always important to carefully evaluate the assumptions and limitations of a model before using it to make predictions or decisions.\n",
        "\n",
        "\n",
        "\n"
      ],
      "metadata": {
        "id": "mYtHhM8UyYsZ"
      }
    },
    {
      "cell_type": "code",
      "source": [],
      "metadata": {
        "id": "IwpEGMJ0yX9q"
      },
      "execution_count": null,
      "outputs": []
    }
  ]
}